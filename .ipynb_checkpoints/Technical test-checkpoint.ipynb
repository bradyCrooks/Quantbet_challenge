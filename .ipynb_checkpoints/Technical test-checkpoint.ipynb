{
 "cells": [
  {
   "cell_type": "markdown",
   "metadata": {},
   "source": [
    "## Quantbet Quantitive Analyst Challenge\n",
    "**Problem: What is the probability that Djokivic will win the set 6-3 to Murray, given that the probability a Djokivic winning a point is 0.53?**\n",
    "\n",
    "There's two ways to approach this problem; solve mathematically or by simulating a significant number sets and count the frequency that the score appears. I will attempt first solve mathematically and then create a simulation as a way of corraborating the result.\n",
    "\n",
    "### Mathematical Solution\n",
    "\n",
    "Let $p$ be the probability that Djokivic (D) wins a point and let $G$ be the probability that D wins a game. A games won for D can be split into two scenarios; the probability that D wins having scored 4 points, $G_{x = 4}$, and the probability that D wins have scored more than 4 points, $G_{x > 4}$ (where $x$ is the number of points scored by D. This can be expressed as follows:\n",
    "\n",
    "$$G = G_{x = 4} + G_{x > 4}$$\n",
    "\n",
    "There are three possible ways for D to win with four points;\n",
    "\n",
    "Score | # Combinations\n",
    "--- | ----\n",
    "4-0 | 1\n",
    "4-1 | $\\binom{4}{1} = 4$\n",
    "4-2 | $\\binom{5}{2} = 10$\n",
    "\n",
    "*Note that as the winner of the game has to win the last possible point in the round only need to consider possible combinations for the points before the last. Therefore the top binomial coefficient is 1 less than the total number of points in the round*\n",
    "\n",
    "Therefore;\n",
    "\n",
    "$$\\begin{align*}\n",
    "G_{x=4} &= p^{4} + p \\times \\binom{4}{1}p^{3}(1-p) + p \\times \\binom{5}{2}p^{3}(1-p)^{2} \\\\\n",
    "&= p^{4} + 4p^{4}(1-p) +10p^{4}(1-p)^{2}\\\\\n",
    "&= p^{4}[1 + (1-p)(14 -10p)]\n",
    "\\end{align*}$$\n",
    "\n",
    "This can be now calculated:           \n",
    "             \n"
   ]
  },
  {
   "cell_type": "code",
   "execution_count": 127,
   "metadata": {},
   "outputs": [
    {
     "name": "stdout",
     "output_type": "stream",
     "text": [
      "0.40154657809000005\n"
     ]
    }
   ],
   "source": [
    "p = 0.53\n",
    "WinXEquals4 = p**4 * (1 + (1-p)*(14-10*p))\n",
    "print(WinXEquals4)"
   ]
  },
  {
   "cell_type": "markdown",
   "metadata": {},
   "source": [
    "For the situation to occur that requires D to need to score more than 4 points, Murray (M) must score 3 before D reaches 4 (i.e. a deuce). The probability of deuce, $P(\\text{deuce})$, occurring is;\n",
    "$$P(\\text{deuce}) = \\binom{6}{3}p^{3}(1-p)^{3}$$\n",
    "After a deuce there are two possibilities that can happen within the next two points; a player wins outright by winning the next two points or the players return to a deuce. The probability that D wins the next two points, $P(WW)$, (where $W$ indicates winning a point) is;\n",
    "$$P(WW) = p^{2}$$\n",
    "And the probability that the players return to a deuce, $P(RTD)$, is;\n",
    "$$\n",
    "\\begin{align*}\n",
    "P(RTD) &= P(WL) + P(LW) \\\\\n",
    "         &= 2p(1-p)\n",
    "\\end{align*}$$\n",
    "\n",
    "Theoretically the players could return to a deuce any number times, therefore must consider a return to deuce happening $n$ times and sum over $n$ to get the probability that D wins after a deuce has happened, $P(\\text{D Wins }|\\text{ deuce})$. This can be written as follows;\n",
    "$$\n",
    "\\begin{align*}\n",
    "P(\\text{D Wins }|\\text{ deuce}) &= \\displaystyle\\sum_{n=0}^{\\infty}P(WW)P(RTD)^{n}\\\\\n",
    "&= \\displaystyle\\sum_{n=0}^{\\infty}p^{2}[2p(1-p)]^{n}\\\\\n",
    "&= p^{2}\\displaystyle\\sum_{n=0}^{\\infty}[2p(1-p)]^{n}\n",
    "\\end{align*}\n",
    "$$\n",
    "\n",
    "This takes the form of an infinite geometric series and so can use the following identity;\n",
    "$$\\displaystyle\\sum_{k=0}^{\\infty}ar^{k} = \\frac{a}{1 - r} \\text{, for } | r | < 1\\\\\n",
    "| 2p(1-p) | < 1 \\\\\n",
    "\\therefore P(\\text{D Wins }|\\text{ deuce}) = \\frac{p^{2}}{1-2p(1-p)}.$$\n",
    "\n",
    "$G_{x > 4}$ can now be formulated;\n",
    "$$\n",
    "\\begin{align*}\n",
    "G_{x > 4} &= P(\\text{deuce})P(\\text{D Wins }|\\text{ deuce}) \\\\\n",
    "          &= \\binom{6}{3}p^{3}(1-p)^{3} \\times \\frac{p^{2}}{1-2p(1-p)}\n",
    "\\end{align*}\n",
    "$$\n"
   ]
  },
  {
   "cell_type": "code",
   "execution_count": 128,
   "metadata": {},
   "outputs": [
    {
     "name": "stdout",
     "output_type": "stream",
     "text": [
      "0.173050261737\n"
     ]
    }
   ],
   "source": [
    "import scipy.special\n",
    "deuce = scipy.special.binom(6, 3) * p**3 * (1-p)**3\n",
    "winAfterDeuce = p**2 / (1 - 2*p*(1-p))\n",
    "winXGT4 = deuce * winAfterDeuce\n",
    "print(winXGT4)"
   ]
  },
  {
   "cell_type": "markdown",
   "metadata": {},
   "source": [
    "$G$ can now be expressed as the following;\n",
    "$$G=p^{4}[1 + (1-p)(14 -10p)]+\\frac{\\binom{6}{3}p^{5}(1-p)^{3}}{1-2p(1-p)},$$\n",
    "And can be calculated:"
   ]
  },
  {
   "cell_type": "code",
   "execution_count": 129,
   "metadata": {},
   "outputs": [
    {
     "name": "stdout",
     "output_type": "stream",
     "text": [
      "0.574596839827\n"
     ]
    }
   ],
   "source": [
    "winGame = WinXEquals4 + winXGT4\n",
    "print(winGame)"
   ]
  },
  {
   "cell_type": "markdown",
   "metadata": {},
   "source": [
    "The probability that D wins the set 6-3, $P(S[\\text{6-3}])$, can be expressed as;\n",
    "$$\n",
    "\\begin{align*}\n",
    "P(S[\\text{6-3}]) &= \\binom{8}{3}G^{5}(1-G)^{3} \\times G \\\\\n",
    "                 &= \\binom{8}{3}G^{6}(1-G)^{3}\n",
    "\\end{align*}\n",
    "$$\n",
    "Which can now be calculated. \n"
   ]
  },
  {
   "cell_type": "code",
   "execution_count": 131,
   "metadata": {},
   "outputs": [
    {
     "name": "stdout",
     "output_type": "stream",
     "text": [
      "0.155156352411\n"
     ]
    }
   ],
   "source": [
    "setScenario = scipy.special.binom(8, 3) * winGame**6 * (1-winGame)**3\n",
    "print(setScenario)"
   ]
  },
  {
   "cell_type": "markdown",
   "metadata": {},
   "source": [
    "### Simulation\n",
    "In order to calculate the probability of set score occuring based on a simulation, first must simulate a game."
   ]
  },
  {
   "cell_type": "code",
   "execution_count": 132,
   "metadata": {
    "collapsed": true
   },
   "outputs": [],
   "source": [
    "import random\n",
    "\n",
    "def simWinGame(player_a='Djokivic', player_b='Murray', prob_a_wins=0.53):\n",
    "    '''Function to simulate a game of tennis'''\n",
    "    gameWon = False\n",
    "    score = {player_a: 0, player_b: 0}\n",
    "    playerWon = ''\n",
    "    while gameWon == False:\n",
    "        if random.random() < prob_a_wins:\n",
    "            score[player_a] +=1\n",
    "            if score[player_a] >= 4:\n",
    "                if score[player_a] >= score[player_b] + 2:\n",
    "                    gameWon = True\n",
    "                    playerWon = player_a\n",
    "                \n",
    "        else:\n",
    "            score[player_b] +=1\n",
    "            if score[player_b] >= 4:\n",
    "                if score[player_b] >= score[player_a] + 2:\n",
    "                    gameWon = True\n",
    "                    playerWon = player_b\n",
    "                    \n",
    "    return playerWon\n",
    "            \n",
    "                    "
   ]
  },
  {
   "cell_type": "markdown",
   "metadata": {},
   "source": [
    "As a method of testing if this works. Can create a test function to calculate the probability that each player has of winnning the game and see if this is the same as the result derived mathematically."
   ]
  },
  {
   "cell_type": "code",
   "execution_count": 70,
   "metadata": {},
   "outputs": [],
   "source": [
    "def TestWinGame(player_a, player_b, prob_a_wins, n=1000):\n",
    "    '''Function to calculate the probability of a player winning a game of tennis based on a simulation'''\n",
    "    score = {player_a:0,  player_b:0}\n",
    "    for i in range(n):\n",
    "        score[simWinGame(player_a, player_b, prob_a_wins)] += 1\n",
    "    prob = {player_a:score[player_a] / n, player_b:score[player_b] / n}\n",
    "    return prob"
   ]
  },
  {
   "cell_type": "code",
   "execution_count": 134,
   "metadata": {},
   "outputs": [
    {
     "name": "stdout",
     "output_type": "stream",
     "text": [
      "{'Djokivic': 0.57455, 'Murray': 0.42545}\n"
     ]
    }
   ],
   "source": [
    "print(TestWinGame('Djokivic', 'Murray', 0.53, 1000000))"
   ]
  },
  {
   "cell_type": "markdown",
   "metadata": {},
   "source": [
    "The above shows that the simulation gets the same probability as that calculated previously to three decimal places for a simulation of 1 million games."
   ]
  },
  {
   "cell_type": "markdown",
   "metadata": {},
   "source": [
    "Then can create a function that simulates a set by simulating multiple games, keeping track of a score and when a winner is determined returning the score for the set."
   ]
  },
  {
   "cell_type": "code",
   "execution_count": 135,
   "metadata": {},
   "outputs": [],
   "source": [
    "def simSet(player_a='Djokivic', player_b='Murray', prob_point_a=0.53):\n",
    "    '''Simulate a set of tennis based on the probability of one player winning a point in a game'''\n",
    "    setWon = False\n",
    "    playerList = [player_a, player_b]\n",
    "    setScore = {player_a:0, player_b:0}\n",
    "    while setWon == False:\n",
    "        gameWinner = simWinGame(player_a, player_b, prob_point_a)\n",
    "        setScore[gameWinner] += 1\n",
    "        \n",
    "        for key in setScore.keys():\n",
    "            if key != gameWinner:\n",
    "                gameLoser = key\n",
    "        \n",
    "        if setScore[gameWinner] >= 6:\n",
    "            if setScore[gameWinner] >= setScore[gameLoser] + 2:\n",
    "                setWon = True\n",
    "                \n",
    "    return setScore\n",
    "        "
   ]
  },
  {
   "cell_type": "code",
   "execution_count": 136,
   "metadata": {},
   "outputs": [
    {
     "data": {
      "text/plain": [
       "{'Djokivic': 6, 'Murray': 4}"
      ]
     },
     "execution_count": 136,
     "metadata": {},
     "output_type": "execute_result"
    }
   ],
   "source": [
    "simSet()"
   ]
  },
  {
   "cell_type": "markdown",
   "metadata": {},
   "source": [
    "Then can calculate the probability of a score happening by simulating a given number of sets and seeing how many times the wanted score occurs."
   ]
  },
  {
   "cell_type": "code",
   "execution_count": 138,
   "metadata": {
    "collapsed": true
   },
   "outputs": [],
   "source": [
    "def probSetScore(score_a, score_b, n_sets, player_a='Djokivic', player_b='Murray', prob_point_a=0.53):\n",
    "    '''Calculate the probability of score happening in a set based on a simulation of n_sets'''\n",
    "    count = 0\n",
    "    for Set in range(n_sets):\n",
    "        score = simSet(player_a, player_b, prob_point_a)\n",
    "        if score[player_a] == score_a and score[player_b] == score_b:\n",
    "            count += 1\n",
    "    \n",
    "    prob = float(count) / n_sets\n",
    "    return prob"
   ]
  },
  {
   "cell_type": "code",
   "execution_count": 143,
   "metadata": {},
   "outputs": [
    {
     "name": "stdout",
     "output_type": "stream",
     "text": [
      "0.15482\n"
     ]
    }
   ],
   "source": [
    "print(probSetScore(6, 3, 1000000))"
   ]
  },
  {
   "cell_type": "markdown",
   "metadata": {},
   "source": [
    "The simulation returns the same probability, to three decimal places, of Djokivic winning the set 6-3 for a simulation of 1000000 sets. Thus confirming our previous result.\n",
    "\n",
    "*Note: sample sizes for simulation were chosen to be as large as possible whilst not visibly impacting computation time (less than approximately 30s)*"
   ]
  },
  {
   "cell_type": "code",
   "execution_count": null,
   "metadata": {
    "collapsed": true
   },
   "outputs": [],
   "source": []
  }
 ],
 "metadata": {
  "kernelspec": {
   "display_name": "Python 3",
   "language": "python",
   "name": "python3"
  },
  "language_info": {
   "codemirror_mode": {
    "name": "ipython",
    "version": 3
   },
   "file_extension": ".py",
   "mimetype": "text/x-python",
   "name": "python",
   "nbconvert_exporter": "python",
   "pygments_lexer": "ipython3",
   "version": "3.6.3"
  }
 },
 "nbformat": 4,
 "nbformat_minor": 2
}
